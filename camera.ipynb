{
  "nbformat": 4,
  "nbformat_minor": 0,
  "metadata": {
    "colab": {
      "provenance": [],
      "authorship_tag": "ABX9TyPNyfHs3mU0qFBv/HM+Uily",
      "include_colab_link": true
    },
    "kernelspec": {
      "name": "python3",
      "display_name": "Python 3"
    },
    "language_info": {
      "name": "python"
    }
  },
  "cells": [
    {
      "cell_type": "markdown",
      "metadata": {
        "id": "view-in-github",
        "colab_type": "text"
      },
      "source": [
        "<a href=\"https://colab.research.google.com/github/kazueuglena/mimosa_img_process/blob/main/camera.ipynb\" target=\"_parent\"><img src=\"https://colab.research.google.com/assets/colab-badge.svg\" alt=\"Open In Colab\"/></a>"
      ]
    },
    {
      "cell_type": "code",
      "execution_count": null,
      "metadata": {
        "id": "jZ376wS54ldL",
        "outputId": "4b4e9c53-249b-460c-98f4-9175ddb3bc54",
        "colab": {
          "base_uri": "https://localhost:8080/",
          "height": 387
        }
      },
      "outputs": [
        {
          "output_type": "error",
          "ename": "ModuleNotFoundError",
          "evalue": "ignored",
          "traceback": [
            "\u001b[0;31m---------------------------------------------------------------------------\u001b[0m",
            "\u001b[0;31mModuleNotFoundError\u001b[0m                       Traceback (most recent call last)",
            "\u001b[0;32m<ipython-input-1-5f3f87bb1d66>\u001b[0m in \u001b[0;36m<cell line: 5>\u001b[0;34m()\u001b[0m\n\u001b[1;32m      3\u001b[0m \u001b[0;32mimport\u001b[0m \u001b[0mcv2\u001b[0m\u001b[0;34m\u001b[0m\u001b[0;34m\u001b[0m\u001b[0m\n\u001b[1;32m      4\u001b[0m \u001b[0;32mimport\u001b[0m \u001b[0mdatetime\u001b[0m\u001b[0;34m\u001b[0m\u001b[0;34m\u001b[0m\u001b[0m\n\u001b[0;32m----> 5\u001b[0;31m \u001b[0;32mimport\u001b[0m \u001b[0mschedule\u001b[0m\u001b[0;34m\u001b[0m\u001b[0;34m\u001b[0m\u001b[0m\n\u001b[0m\u001b[1;32m      6\u001b[0m \u001b[0;32mimport\u001b[0m \u001b[0mtime\u001b[0m\u001b[0;34m\u001b[0m\u001b[0;34m\u001b[0m\u001b[0m\n\u001b[1;32m      7\u001b[0m \u001b[0;34m\u001b[0m\u001b[0m\n",
            "\u001b[0;31mModuleNotFoundError\u001b[0m: No module named 'schedule'",
            "",
            "\u001b[0;31m---------------------------------------------------------------------------\u001b[0;32m\nNOTE: If your import is failing due to a missing package, you can\nmanually install dependencies using either !pip or !apt.\n\nTo view examples of installing some common dependencies, click the\n\"Open Examples\" button below.\n\u001b[0;31m---------------------------------------------------------------------------\u001b[0m\n"
          ],
          "errorDetails": {
            "actions": [
              {
                "action": "open_url",
                "actionText": "Open Examples",
                "url": "/notebooks/snippets/importing_libraries.ipynb"
              }
            ]
          }
        }
      ],
      "source": [
        "import cv2\n",
        "import datetime\n",
        "import schedule\n",
        "import time\n",
        "import os\n",
        "\n",
        "#下の数字を毎回変える\n",
        "file_prefix = \"2\"\n",
        "\n",
        "new_output_directory = f\"C:/Users/kazuh_rgdzy57/Downloads/{file_prefix}\"\n",
        "os.makedirs(new_output_directory, exist_ok=True)\n",
        "if os.path.exists(new_output_directory):\n",
        "    print(f\"{new_output_directory} は存在します。\")\n",
        "    # ここにファイルが存在する場合の処理を記述\n",
        "else:\n",
        "    print(f\"{new_output_directory} は存在しません。\")\n",
        "    # ここにファイルが存在しない場合の処理を記述\n",
        "\n",
        "\n",
        "# デバイスと解像度の決定\n",
        "deviceid = 0\n",
        "capture = cv2.VideoCapture(deviceid)\n",
        "capture.open(deviceid)\n",
        "capture.set(cv2.CAP_PROP_FRAME_WIDTH, 1600)\n",
        "capture.set(cv2.CAP_PROP_FRAME_HEIGHT, 1200)\n",
        "\n",
        "# 解像度の表示\n",
        "width = capture.get(cv2.CAP_PROP_FRAME_WIDTH)\n",
        "height = capture.get(cv2.CAP_PROP_FRAME_HEIGHT)\n",
        "print(\"現在の解像度:\", width, \"x\", height)\n",
        "\n",
        "def job():\n",
        "    ret, frame = capture.read()\n",
        "    current_minute = datetime.datetime.now().minute\n",
        "    if current_minute % 5 == 0:  # 一の位が5の倍数のときだけ画像を保存\n",
        "        os.chdir(new_output_directory)\n",
        "        strdate = datetime.datetime.now().strftime('%m%dT%H%M')\n",
        "        fname = f\"{file_prefix}-{strdate}.jpg\"\n",
        "        cv2.imwrite(fname, frame)\n",
        "        print(fname + \" is created.\")\n",
        "\n",
        "# 1分ごとにチェック\n",
        "schedule.every(1).minutes.do(job)\n",
        "\n",
        "while True:\n",
        "    schedule.run_pending()\n",
        "    time.sleep(1)\n"
      ]
    }
  ]
}