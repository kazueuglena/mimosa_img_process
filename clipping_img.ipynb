{
  "nbformat": 4,
  "nbformat_minor": 0,
  "metadata": {
    "colab": {
      "provenance": [],
      "authorship_tag": "ABX9TyM+migrLhOPGyDlPUk2aAgc",
      "include_colab_link": true
    },
    "kernelspec": {
      "name": "python3",
      "display_name": "Python 3"
    },
    "language_info": {
      "name": "python"
    }
  },
  "cells": [
    {
      "cell_type": "markdown",
      "metadata": {
        "id": "view-in-github",
        "colab_type": "text"
      },
      "source": [
        "<a href=\"https://colab.research.google.com/github/kazueuglena/mimosa_img_process/blob/main/clipping_img.ipynb\" target=\"_parent\"><img src=\"https://colab.research.google.com/assets/colab-badge.svg\" alt=\"Open In Colab\"/></a>"
      ]
    },
    {
      "cell_type": "code",
      "execution_count": null,
      "metadata": {
        "id": "WYBw0CxTbr1y"
      },
      "outputs": [],
      "source": [
        "#頂点にぴったり合わせる　これがベストのプログラム\n",
        "#オジギソウの葉の部分を切り抜き\n",
        "\n",
        "from google.colab import drive\n",
        "drive.mount('/content/drive')\n",
        "\n",
        "import os\n",
        "import cv2\n",
        "\n",
        "# 入力フォルダと出力フォルダのパス\n",
        "input_folder = \"/content/drive/MyDrive/cut_mimosa/mimosa_image\"\n",
        "output_folder = \"/content/drive/MyDrive/cut_mimosa/mimosa_output\"\n",
        "\n",
        "# 入力フォルダ内の画像ファイルを取得\n",
        "image_files = os.listdir(input_folder)\n",
        "\n",
        "# ターゲットサイズ\n",
        "target_size = (350, 585)\n",
        "\n",
        "# 画像ファイルを一括で処理\n",
        "for image_file in image_files:\n",
        "    # 画像ファイルのパス\n",
        "    input_path = os.path.join(input_folder, image_file)\n",
        "\n",
        "    # 画像を読み込み\n",
        "    mimosa = cv2.imread(input_path)\n",
        "\n",
        "    # 画像の拡大\n",
        "    new_width = 1600\n",
        "    new_height = 1200\n",
        "    mimosa = cv2.resize(mimosa, (new_width, new_height))\n",
        "\n",
        "    # 画像の切り抜きと保存 左＋600　右＋340\n",
        "    imgA = mimosa[47:573, 42:322]\n",
        "    imgA = cv2.resize(imgA, target_size)\n",
        "    cv2.imwrite(os.path.join(output_folder, \"A_\" + image_file), imgA)\n",
        "\n",
        "    imgB = mimosa[45:577, 339:629]\n",
        "    imgB = cv2.resize(imgB, target_size)\n",
        "    cv2.imwrite(os.path.join(output_folder, \"B_\" + image_file), imgB)\n",
        "\n",
        "    imgC = mimosa[46:582, 638:932]\n",
        "    imgC = cv2.resize(imgC, target_size)\n",
        "    cv2.imwrite(os.path.join(output_folder, \"C_\" + image_file), imgC)\n",
        "\n",
        "    imgD = mimosa[52:587, 942:1239]\n",
        "    imgD = cv2.resize(imgD, target_size)\n",
        "    cv2.imwrite(os.path.join(output_folder, \"D_\" + image_file), imgD)\n",
        "\n",
        "    imgE = mimosa[60:592, 1241:1547]\n",
        "    imgE = cv2.resize(imgE, target_size)\n",
        "    cv2.imwrite(os.path.join(output_folder, \"E_\" + image_file), imgE)\n",
        "\n",
        "    imgF = mimosa[566:1117, 14:303]\n",
        "    imgF = cv2.resize(imgF, target_size)\n",
        "    cv2.imwrite(os.path.join(output_folder, \"F_\" + image_file), imgF)\n",
        "\n",
        "    imgG = mimosa[587:1129, 1240:1540]\n",
        "    imgG = cv2.resize(imgG, target_size)\n",
        "    cv2.imwrite(os.path.join(output_folder, \"G_\" + image_file), imgG)\n",
        "\n",
        "print(\"処理が完了しました。\")"
      ]
    }
  ]
}