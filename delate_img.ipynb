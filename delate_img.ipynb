{
  "nbformat": 4,
  "nbformat_minor": 0,
  "metadata": {
    "colab": {
      "provenance": [],
      "authorship_tag": "ABX9TyN0YGdKSOYas3yGjqMDdFQY",
      "include_colab_link": true
    },
    "kernelspec": {
      "name": "python3",
      "display_name": "Python 3"
    },
    "language_info": {
      "name": "python"
    }
  },
  "cells": [
    {
      "cell_type": "markdown",
      "metadata": {
        "id": "view-in-github",
        "colab_type": "text"
      },
      "source": [
        "<a href=\"https://colab.research.google.com/github/kazueuglena/mimosa_img_process/blob/main/delate_img.ipynb\" target=\"_parent\"><img src=\"https://colab.research.google.com/assets/colab-badge.svg\" alt=\"Open In Colab\"/></a>"
      ]
    },
    {
      "cell_type": "code",
      "execution_count": null,
      "metadata": {
        "id": "rPvHz3NSdPXD"
      },
      "outputs": [],
      "source": [
        "#ファイルを削除するためのプログラム\n",
        "\n",
        "from google.colab import drive\n",
        "drive.mount('/content/drive')\n",
        "\n",
        "import os\n",
        "\n",
        "times = 0\n",
        "\n",
        "while times <= 180:\n",
        "  directory = \"/content/drive/MyDrive/cut_mimosa/mimosa_output/\"\n",
        "  directory = os.path.join(directory, str(times))\n",
        "\n",
        "  # フォルダが存在するか確認\n",
        "  if os.path.exists(directory):\n",
        "      files = os.listdir(directory)\n",
        "      print(directory)\n",
        "      print(files)\n",
        "      for i in files:\n",
        "        try:\n",
        "            os.remove(directory+'/'+i)\n",
        "        except IsADirectoryError:\n",
        "            pass\n",
        "  else:\n",
        "      print(f\"フォルダ {directory} が存在しません。\")\n",
        "\n",
        "  times += 20"
      ]
    }
  ]
}