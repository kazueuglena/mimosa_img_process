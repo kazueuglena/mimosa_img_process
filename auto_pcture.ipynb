{
  "nbformat": 4,
  "nbformat_minor": 0,
  "metadata": {
    "colab": {
      "provenance": [],
      "authorship_tag": "ABX9TyNOXWnjVVuO2VjjwtGIBmzR",
      "include_colab_link": true
    },
    "kernelspec": {
      "name": "python3",
      "display_name": "Python 3"
    },
    "language_info": {
      "name": "python"
    }
  },
  "cells": [
    {
      "cell_type": "markdown",
      "metadata": {
        "id": "view-in-github",
        "colab_type": "text"
      },
      "source": [
        "<a href=\"https://colab.research.google.com/github/kazueuglena/mimosa_img_process/blob/main/auto_pcture.ipynb\" target=\"_parent\"><img src=\"https://colab.research.google.com/assets/colab-badge.svg\" alt=\"Open In Colab\"/></a>"
      ]
    },
    {
      "cell_type": "code",
      "execution_count": null,
      "metadata": {
        "id": "Wp07y0-gG6Oq"
      },
      "outputs": [],
      "source": [
        "import cv2\n",
        "import datetime\n",
        "import schedule\n",
        "import time\n",
        "\n",
        "#デバイスと解像度の決定\n",
        "deviceid = 0\n",
        "capture = cv2.VideoCapture(deviceid)\n",
        "capture.open(deviceid)\n",
        "capture.set(cv2.CAP_PROP_FRAME_WIDTH, 1280)\n",
        "capture.set(cv2.CAP_PROP_FRAME_HEIGHT, 960)\n",
        "\n",
        "#解像度の表示\n",
        "width = capture.get(cv2.CAP_PROP_FRAME_WIDTH)\n",
        "height = capture.get(cv2.CAP_PROP_FRAME_HEIGHT)\n",
        "print(\"現在の解像度:\", width, \"x\", height)\n",
        "\n",
        "def job():\n",
        "    ret, frame = capture.read()\n",
        "    strdate = datetime.datetime.now().strftime('%m%dT%H%M')\n",
        "    fname = \"2-\" + strdate + \".jpg\"\n",
        "    cv2.imwrite(fname, frame)\n",
        "    print(fname + \" is created.\")\n",
        "\n",
        "#10分ごと写真を撮影\n",
        "schedule.every(10).minutes.do(job)\n",
        "\n",
        "while True:\n",
        "    schedule.run_pending()\n",
        "    time.sleep(1)\n"
      ]
    }
  ]
}