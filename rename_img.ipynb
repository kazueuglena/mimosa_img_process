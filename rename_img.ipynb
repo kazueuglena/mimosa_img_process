{
  "nbformat": 4,
  "nbformat_minor": 0,
  "metadata": {
    "colab": {
      "provenance": [],
      "authorship_tag": "ABX9TyM9pPDvkPSusYw9QlDSSmDC",
      "include_colab_link": true
    },
    "kernelspec": {
      "name": "python3",
      "display_name": "Python 3"
    },
    "language_info": {
      "name": "python"
    }
  },
  "cells": [
    {
      "cell_type": "markdown",
      "metadata": {
        "id": "view-in-github",
        "colab_type": "text"
      },
      "source": [
        "<a href=\"https://colab.research.google.com/github/kazueuglena/mimosa_img_process/blob/main/rename_img.ipynb\" target=\"_parent\"><img src=\"https://colab.research.google.com/assets/colab-badge.svg\" alt=\"Open In Colab\"/></a>"
      ]
    },
    {
      "cell_type": "code",
      "execution_count": null,
      "metadata": {
        "id": "-vaI_hgSdAve"
      },
      "outputs": [],
      "source": [
        "#画像ファイルの名前を変えるためのプログラム\n",
        "\n",
        "from google.colab import drive\n",
        "import os\n",
        "\n",
        "drive.mount('/content/drive')\n",
        "\n",
        "times = 0\n",
        "\n",
        "while times <= 180:\n",
        "    # 入力フォルダと出力フォルダのパス\n",
        "    folder_path = \"/content/drive/MyDrive/cut_mimosa/mimosa_output\"\n",
        "    folder_path = os.path.join(folder_path, str(times))\n",
        "\n",
        "    # フォルダ内のJPGファイルにアクセスしてリネームする関数\n",
        "    def rename_jpg_files(folder_path):\n",
        "        # フォルダが存在しない場合は処理をスキップ\n",
        "        if not os.path.exists(folder_path):\n",
        "            print(f\"フォルダ {folder_path} が存在しません。処理をスキップします。\")\n",
        "            return\n",
        "\n",
        "\n",
        "        # フォルダ内のファイルを取得\n",
        "        file_list = os.listdir(folder_path)\n",
        "        if file_list:\n",
        "            # 各ファイルに対して処理を行う\n",
        "            for file_name in file_list:\n",
        "              if not f\"{times}_\" in file_name:\n",
        "                file_path = os.path.join(folder_path, file_name)\n",
        "                # 画像が入っているフォルダ名を取得\n",
        "                folder_name = os.path.basename(folder_path)\n",
        "                # 新しいファイル名を作成\n",
        "                new_file_name = f\"{folder_name}_{file_name}\"\n",
        "                new_file_path = os.path.join(folder_path, new_file_name)\n",
        "                # ファイルのリネーム\n",
        "                os.rename(file_path, new_file_path)\n",
        "                print(f\"Renamed {file_name} to {new_file_name}\")\n",
        "\n",
        "    # フォルダ内のJPGファイルの名前を変更する\n",
        "    rename_jpg_files(folder_path)\n",
        "\n",
        "    times += 20\n"
      ]
    }
  ]
}